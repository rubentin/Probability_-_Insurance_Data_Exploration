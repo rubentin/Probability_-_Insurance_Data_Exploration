{
 "cells": [
  {
   "cell_type": "code",
   "execution_count": 1,
   "id": "0e368ba1",
   "metadata": {},
   "outputs": [],
   "source": [
    "# import library\n",
    "\n",
    "import numpy as np\n",
    "import pandas as pd\n",
    "import seaborn as sns\n",
    "import scipy.stats as stats\n",
    "import matplotlib.pyplot as plt"
   ]
  },
  {
   "cell_type": "code",
   "execution_count": 2,
   "id": "9911557c",
   "metadata": {
    "scrolled": true
   },
   "outputs": [
    {
     "data": {
      "text/html": [
       "<div>\n",
       "<style scoped>\n",
       "    .dataframe tbody tr th:only-of-type {\n",
       "        vertical-align: middle;\n",
       "    }\n",
       "\n",
       "    .dataframe tbody tr th {\n",
       "        vertical-align: top;\n",
       "    }\n",
       "\n",
       "    .dataframe thead th {\n",
       "        text-align: right;\n",
       "    }\n",
       "</style>\n",
       "<table border=\"1\" class=\"dataframe\">\n",
       "  <thead>\n",
       "    <tr style=\"text-align: right;\">\n",
       "      <th></th>\n",
       "      <th>age</th>\n",
       "      <th>sex</th>\n",
       "      <th>bmi</th>\n",
       "      <th>children</th>\n",
       "      <th>smoker</th>\n",
       "      <th>region</th>\n",
       "      <th>charges</th>\n",
       "    </tr>\n",
       "  </thead>\n",
       "  <tbody>\n",
       "    <tr>\n",
       "      <th>0</th>\n",
       "      <td>19</td>\n",
       "      <td>female</td>\n",
       "      <td>27.900</td>\n",
       "      <td>0</td>\n",
       "      <td>yes</td>\n",
       "      <td>southwest</td>\n",
       "      <td>16884.92400</td>\n",
       "    </tr>\n",
       "    <tr>\n",
       "      <th>1</th>\n",
       "      <td>18</td>\n",
       "      <td>male</td>\n",
       "      <td>33.770</td>\n",
       "      <td>1</td>\n",
       "      <td>no</td>\n",
       "      <td>southeast</td>\n",
       "      <td>1725.55230</td>\n",
       "    </tr>\n",
       "    <tr>\n",
       "      <th>2</th>\n",
       "      <td>28</td>\n",
       "      <td>male</td>\n",
       "      <td>33.000</td>\n",
       "      <td>3</td>\n",
       "      <td>no</td>\n",
       "      <td>southeast</td>\n",
       "      <td>4449.46200</td>\n",
       "    </tr>\n",
       "    <tr>\n",
       "      <th>3</th>\n",
       "      <td>33</td>\n",
       "      <td>male</td>\n",
       "      <td>22.705</td>\n",
       "      <td>0</td>\n",
       "      <td>no</td>\n",
       "      <td>northwest</td>\n",
       "      <td>21984.47061</td>\n",
       "    </tr>\n",
       "    <tr>\n",
       "      <th>4</th>\n",
       "      <td>32</td>\n",
       "      <td>male</td>\n",
       "      <td>28.880</td>\n",
       "      <td>0</td>\n",
       "      <td>no</td>\n",
       "      <td>northwest</td>\n",
       "      <td>3866.85520</td>\n",
       "    </tr>\n",
       "    <tr>\n",
       "      <th>...</th>\n",
       "      <td>...</td>\n",
       "      <td>...</td>\n",
       "      <td>...</td>\n",
       "      <td>...</td>\n",
       "      <td>...</td>\n",
       "      <td>...</td>\n",
       "      <td>...</td>\n",
       "    </tr>\n",
       "    <tr>\n",
       "      <th>1333</th>\n",
       "      <td>50</td>\n",
       "      <td>male</td>\n",
       "      <td>30.970</td>\n",
       "      <td>3</td>\n",
       "      <td>no</td>\n",
       "      <td>northwest</td>\n",
       "      <td>10600.54830</td>\n",
       "    </tr>\n",
       "    <tr>\n",
       "      <th>1334</th>\n",
       "      <td>18</td>\n",
       "      <td>female</td>\n",
       "      <td>31.920</td>\n",
       "      <td>0</td>\n",
       "      <td>no</td>\n",
       "      <td>northeast</td>\n",
       "      <td>2205.98080</td>\n",
       "    </tr>\n",
       "    <tr>\n",
       "      <th>1335</th>\n",
       "      <td>18</td>\n",
       "      <td>female</td>\n",
       "      <td>36.850</td>\n",
       "      <td>0</td>\n",
       "      <td>no</td>\n",
       "      <td>southeast</td>\n",
       "      <td>1629.83350</td>\n",
       "    </tr>\n",
       "    <tr>\n",
       "      <th>1336</th>\n",
       "      <td>21</td>\n",
       "      <td>female</td>\n",
       "      <td>25.800</td>\n",
       "      <td>0</td>\n",
       "      <td>no</td>\n",
       "      <td>southwest</td>\n",
       "      <td>2007.94500</td>\n",
       "    </tr>\n",
       "    <tr>\n",
       "      <th>1337</th>\n",
       "      <td>61</td>\n",
       "      <td>female</td>\n",
       "      <td>29.070</td>\n",
       "      <td>0</td>\n",
       "      <td>yes</td>\n",
       "      <td>northwest</td>\n",
       "      <td>29141.36030</td>\n",
       "    </tr>\n",
       "  </tbody>\n",
       "</table>\n",
       "<p>1338 rows × 7 columns</p>\n",
       "</div>"
      ],
      "text/plain": [
       "      age     sex     bmi  children smoker     region      charges\n",
       "0      19  female  27.900         0    yes  southwest  16884.92400\n",
       "1      18    male  33.770         1     no  southeast   1725.55230\n",
       "2      28    male  33.000         3     no  southeast   4449.46200\n",
       "3      33    male  22.705         0     no  northwest  21984.47061\n",
       "4      32    male  28.880         0     no  northwest   3866.85520\n",
       "...   ...     ...     ...       ...    ...        ...          ...\n",
       "1333   50    male  30.970         3     no  northwest  10600.54830\n",
       "1334   18  female  31.920         0     no  northeast   2205.98080\n",
       "1335   18  female  36.850         0     no  southeast   1629.83350\n",
       "1336   21  female  25.800         0     no  southwest   2007.94500\n",
       "1337   61  female  29.070         0    yes  northwest  29141.36030\n",
       "\n",
       "[1338 rows x 7 columns]"
      ]
     },
     "execution_count": 2,
     "metadata": {},
     "output_type": "execute_result"
    }
   ],
   "source": [
    "# read data file\n",
    "\n",
    "df = pd.read_csv('insurance.csv')\n",
    "df"
   ]
  },
  {
   "cell_type": "code",
   "execution_count": 3,
   "id": "835467a7",
   "metadata": {
    "scrolled": false
   },
   "outputs": [
    {
     "name": "stdout",
     "output_type": "stream",
     "text": [
      "<class 'pandas.core.frame.DataFrame'>\n",
      "RangeIndex: 1338 entries, 0 to 1337\n",
      "Data columns (total 7 columns):\n",
      " #   Column    Non-Null Count  Dtype  \n",
      "---  ------    --------------  -----  \n",
      " 0   age       1338 non-null   int64  \n",
      " 1   sex       1338 non-null   object \n",
      " 2   bmi       1338 non-null   float64\n",
      " 3   children  1338 non-null   int64  \n",
      " 4   smoker    1338 non-null   object \n",
      " 5   region    1338 non-null   object \n",
      " 6   charges   1338 non-null   float64\n",
      "dtypes: float64(2), int64(2), object(3)\n",
      "memory usage: 73.3+ KB\n"
     ]
    }
   ],
   "source": [
    "# general info dataset\n",
    "\n",
    "df.info()"
   ]
  },
  {
   "cell_type": "markdown",
   "id": "ca29ab6f",
   "metadata": {},
   "source": [
    "## 1. Data Cleaning"
   ]
  },
  {
   "cell_type": "markdown",
   "id": "b1ee3683",
   "metadata": {},
   "source": [
    "Dataset insurance.csv terdiri dari 1338 baris dan 7 kolom. Sebelum masuk pada tahap pengolahan data, akan dilakukan pembersihan dataset terlebih dahulu. Pembersihan dataset yang akan dilakukan meliputi missing value data, duplicates data, dan inconsistent data."
   ]
  },
  {
   "cell_type": "markdown",
   "id": "7fd03046",
   "metadata": {},
   "source": [
    "### 1.1. Missing value checking"
   ]
  },
  {
   "cell_type": "code",
   "execution_count": 4,
   "id": "5f710694",
   "metadata": {
    "scrolled": true
   },
   "outputs": [
    {
     "data": {
      "text/plain": [
       "age         0\n",
       "sex         0\n",
       "bmi         0\n",
       "children    0\n",
       "smoker      0\n",
       "region      0\n",
       "charges     0\n",
       "dtype: int64"
      ]
     },
     "execution_count": 4,
     "metadata": {},
     "output_type": "execute_result"
    }
   ],
   "source": [
    "# missing value check\n",
    "\n",
    "df.isna().sum()"
   ]
  },
  {
   "cell_type": "markdown",
   "id": "ceba61c9",
   "metadata": {},
   "source": [
    "Tidak terdapat missing value pada dataset."
   ]
  },
  {
   "cell_type": "markdown",
   "id": "01ba284e",
   "metadata": {},
   "source": [
    "### 1.2. Duplicates data checking"
   ]
  },
  {
   "cell_type": "code",
   "execution_count": 5,
   "id": "f99ab083",
   "metadata": {
    "scrolled": false
   },
   "outputs": [
    {
     "data": {
      "text/html": [
       "<div>\n",
       "<style scoped>\n",
       "    .dataframe tbody tr th:only-of-type {\n",
       "        vertical-align: middle;\n",
       "    }\n",
       "\n",
       "    .dataframe tbody tr th {\n",
       "        vertical-align: top;\n",
       "    }\n",
       "\n",
       "    .dataframe thead th {\n",
       "        text-align: right;\n",
       "    }\n",
       "</style>\n",
       "<table border=\"1\" class=\"dataframe\">\n",
       "  <thead>\n",
       "    <tr style=\"text-align: right;\">\n",
       "      <th></th>\n",
       "      <th>age</th>\n",
       "      <th>sex</th>\n",
       "      <th>bmi</th>\n",
       "      <th>children</th>\n",
       "      <th>smoker</th>\n",
       "      <th>region</th>\n",
       "      <th>charges</th>\n",
       "    </tr>\n",
       "  </thead>\n",
       "  <tbody>\n",
       "    <tr>\n",
       "      <th>195</th>\n",
       "      <td>19</td>\n",
       "      <td>male</td>\n",
       "      <td>30.59</td>\n",
       "      <td>0</td>\n",
       "      <td>no</td>\n",
       "      <td>northwest</td>\n",
       "      <td>1639.5631</td>\n",
       "    </tr>\n",
       "    <tr>\n",
       "      <th>581</th>\n",
       "      <td>19</td>\n",
       "      <td>male</td>\n",
       "      <td>30.59</td>\n",
       "      <td>0</td>\n",
       "      <td>no</td>\n",
       "      <td>northwest</td>\n",
       "      <td>1639.5631</td>\n",
       "    </tr>\n",
       "  </tbody>\n",
       "</table>\n",
       "</div>"
      ],
      "text/plain": [
       "     age   sex    bmi  children smoker     region    charges\n",
       "195   19  male  30.59         0     no  northwest  1639.5631\n",
       "581   19  male  30.59         0     no  northwest  1639.5631"
      ]
     },
     "execution_count": 5,
     "metadata": {},
     "output_type": "execute_result"
    }
   ],
   "source": [
    "# duplicates check\n",
    "\n",
    "df[df.duplicated(keep = False)]"
   ]
  },
  {
   "cell_type": "markdown",
   "id": "b3c5de55",
   "metadata": {},
   "source": [
    "Terdapat data duplikat pada index data 195 dan 581. Penanganan yang dilakukan pada data duplikat adalah dengan menyimpan index data ke-195 dan menghapus index data ke-581."
   ]
  },
  {
   "cell_type": "code",
   "execution_count": 6,
   "id": "54b32ef4",
   "metadata": {
    "scrolled": true
   },
   "outputs": [],
   "source": [
    "# keep first value\n",
    "\n",
    "df.drop_duplicates(keep = 'first', inplace = True)"
   ]
  },
  {
   "cell_type": "code",
   "execution_count": 7,
   "id": "e31549a4",
   "metadata": {},
   "outputs": [
    {
     "data": {
      "text/plain": [
       "0"
      ]
     },
     "execution_count": 7,
     "metadata": {},
     "output_type": "execute_result"
    }
   ],
   "source": [
    "# re-check setelah drop data\n",
    "\n",
    "df.duplicated().sum()"
   ]
  },
  {
   "cell_type": "markdown",
   "id": "4edc5260",
   "metadata": {},
   "source": [
    "Tidak ada lagi data duplikat pada dataset."
   ]
  },
  {
   "cell_type": "markdown",
   "id": "a33d4024",
   "metadata": {},
   "source": [
    "### 1.3. Inconsistent data checking"
   ]
  },
  {
   "cell_type": "code",
   "execution_count": 8,
   "id": "9d11ee5a",
   "metadata": {
    "scrolled": true
   },
   "outputs": [
    {
     "data": {
      "text/plain": [
       "array(['female', 'male', 'yes', 'no', 'southwest', 'southeast',\n",
       "       'northwest', 'northeast'], dtype=object)"
      ]
     },
     "execution_count": 8,
     "metadata": {},
     "output_type": "execute_result"
    }
   ],
   "source": [
    "# unique value check pada pada colomn dengan tipe data object\n",
    "pd.concat([df['sex'], df['smoker'], df['region']]).unique()"
   ]
  },
  {
   "cell_type": "markdown",
   "id": "27d1675b",
   "metadata": {},
   "source": [
    "Tidak terdapat inconsistent data pada dataset."
   ]
  },
  {
   "cell_type": "markdown",
   "id": "38fe93fe",
   "metadata": {},
   "source": [
    "### 1.4. Cleaned data"
   ]
  },
  {
   "cell_type": "code",
   "execution_count": 9,
   "id": "aedeecf1",
   "metadata": {
    "scrolled": true
   },
   "outputs": [
    {
     "name": "stdout",
     "output_type": "stream",
     "text": [
      "<class 'pandas.core.frame.DataFrame'>\n",
      "Int64Index: 1337 entries, 0 to 1337\n",
      "Data columns (total 7 columns):\n",
      " #   Column    Non-Null Count  Dtype  \n",
      "---  ------    --------------  -----  \n",
      " 0   age       1337 non-null   int64  \n",
      " 1   sex       1337 non-null   object \n",
      " 2   bmi       1337 non-null   float64\n",
      " 3   children  1337 non-null   int64  \n",
      " 4   smoker    1337 non-null   object \n",
      " 5   region    1337 non-null   object \n",
      " 6   charges   1337 non-null   float64\n",
      "dtypes: float64(2), int64(2), object(3)\n",
      "memory usage: 83.6+ KB\n"
     ]
    }
   ],
   "source": [
    "# cleaned dataset\n",
    "\n",
    "df.info()"
   ]
  },
  {
   "cell_type": "markdown",
   "id": "42b6d0ee",
   "metadata": {},
   "source": [
    "Setelah dilakukan pembersihan, dataset telah siap untuk diolah. Cleaned data terdiri dari 1337 baris dan 7 kolom."
   ]
  },
  {
   "cell_type": "markdown",
   "id": "3d8f6237",
   "metadata": {},
   "source": [
    "## 2. Analisis Statistik Deskriptif"
   ]
  },
  {
   "cell_type": "code",
   "execution_count": 10,
   "id": "87254b91",
   "metadata": {
    "scrolled": false
   },
   "outputs": [
    {
     "data": {
      "text/html": [
       "<div>\n",
       "<style scoped>\n",
       "    .dataframe tbody tr th:only-of-type {\n",
       "        vertical-align: middle;\n",
       "    }\n",
       "\n",
       "    .dataframe tbody tr th {\n",
       "        vertical-align: top;\n",
       "    }\n",
       "\n",
       "    .dataframe thead th {\n",
       "        text-align: right;\n",
       "    }\n",
       "</style>\n",
       "<table border=\"1\" class=\"dataframe\">\n",
       "  <thead>\n",
       "    <tr style=\"text-align: right;\">\n",
       "      <th></th>\n",
       "      <th>count</th>\n",
       "      <th>mean</th>\n",
       "      <th>std</th>\n",
       "      <th>min</th>\n",
       "      <th>25%</th>\n",
       "      <th>50%</th>\n",
       "      <th>75%</th>\n",
       "      <th>max</th>\n",
       "    </tr>\n",
       "  </thead>\n",
       "  <tbody>\n",
       "    <tr>\n",
       "      <th>age</th>\n",
       "      <td>1337.0</td>\n",
       "      <td>39.222139</td>\n",
       "      <td>14.044333</td>\n",
       "      <td>18.0000</td>\n",
       "      <td>27.000</td>\n",
       "      <td>39.0000</td>\n",
       "      <td>51.00000</td>\n",
       "      <td>64.00000</td>\n",
       "    </tr>\n",
       "    <tr>\n",
       "      <th>bmi</th>\n",
       "      <td>1337.0</td>\n",
       "      <td>30.663452</td>\n",
       "      <td>6.100468</td>\n",
       "      <td>15.9600</td>\n",
       "      <td>26.290</td>\n",
       "      <td>30.4000</td>\n",
       "      <td>34.70000</td>\n",
       "      <td>53.13000</td>\n",
       "    </tr>\n",
       "    <tr>\n",
       "      <th>children</th>\n",
       "      <td>1337.0</td>\n",
       "      <td>1.095737</td>\n",
       "      <td>1.205571</td>\n",
       "      <td>0.0000</td>\n",
       "      <td>0.000</td>\n",
       "      <td>1.0000</td>\n",
       "      <td>2.00000</td>\n",
       "      <td>5.00000</td>\n",
       "    </tr>\n",
       "    <tr>\n",
       "      <th>charges</th>\n",
       "      <td>1337.0</td>\n",
       "      <td>13279.121487</td>\n",
       "      <td>12110.359656</td>\n",
       "      <td>1121.8739</td>\n",
       "      <td>4746.344</td>\n",
       "      <td>9386.1613</td>\n",
       "      <td>16657.71745</td>\n",
       "      <td>63770.42801</td>\n",
       "    </tr>\n",
       "  </tbody>\n",
       "</table>\n",
       "</div>"
      ],
      "text/plain": [
       "           count          mean           std        min       25%        50%  \\\n",
       "age       1337.0     39.222139     14.044333    18.0000    27.000    39.0000   \n",
       "bmi       1337.0     30.663452      6.100468    15.9600    26.290    30.4000   \n",
       "children  1337.0      1.095737      1.205571     0.0000     0.000     1.0000   \n",
       "charges   1337.0  13279.121487  12110.359656  1121.8739  4746.344  9386.1613   \n",
       "\n",
       "                  75%          max  \n",
       "age          51.00000     64.00000  \n",
       "bmi          34.70000     53.13000  \n",
       "children      2.00000      5.00000  \n",
       "charges   16657.71745  63770.42801  "
      ]
     },
     "execution_count": 10,
     "metadata": {},
     "output_type": "execute_result"
    }
   ],
   "source": [
    "# general statistik deskripsi numerikal\n",
    "\n",
    "df.describe().T"
   ]
  },
  {
   "cell_type": "code",
   "execution_count": 11,
   "id": "522f81cd",
   "metadata": {},
   "outputs": [
    {
     "data": {
      "text/html": [
       "<div>\n",
       "<style scoped>\n",
       "    .dataframe tbody tr th:only-of-type {\n",
       "        vertical-align: middle;\n",
       "    }\n",
       "\n",
       "    .dataframe tbody tr th {\n",
       "        vertical-align: top;\n",
       "    }\n",
       "\n",
       "    .dataframe thead th {\n",
       "        text-align: right;\n",
       "    }\n",
       "</style>\n",
       "<table border=\"1\" class=\"dataframe\">\n",
       "  <thead>\n",
       "    <tr style=\"text-align: right;\">\n",
       "      <th></th>\n",
       "      <th>count</th>\n",
       "      <th>unique</th>\n",
       "      <th>top</th>\n",
       "      <th>freq</th>\n",
       "    </tr>\n",
       "  </thead>\n",
       "  <tbody>\n",
       "    <tr>\n",
       "      <th>sex</th>\n",
       "      <td>1337</td>\n",
       "      <td>2</td>\n",
       "      <td>male</td>\n",
       "      <td>675</td>\n",
       "    </tr>\n",
       "    <tr>\n",
       "      <th>smoker</th>\n",
       "      <td>1337</td>\n",
       "      <td>2</td>\n",
       "      <td>no</td>\n",
       "      <td>1063</td>\n",
       "    </tr>\n",
       "    <tr>\n",
       "      <th>region</th>\n",
       "      <td>1337</td>\n",
       "      <td>4</td>\n",
       "      <td>southeast</td>\n",
       "      <td>364</td>\n",
       "    </tr>\n",
       "  </tbody>\n",
       "</table>\n",
       "</div>"
      ],
      "text/plain": [
       "       count unique        top  freq\n",
       "sex     1337      2       male   675\n",
       "smoker  1337      2         no  1063\n",
       "region  1337      4  southeast   364"
      ]
     },
     "execution_count": 11,
     "metadata": {},
     "output_type": "execute_result"
    }
   ],
   "source": [
    "# general statistik deskripsi kategorikal\n",
    "\n",
    "df.describe(include=['O']).T"
   ]
  },
  {
   "cell_type": "markdown",
   "id": "9d7e5aa1",
   "metadata": {},
   "source": [
    "### 2.1. Rata-rata umur pengguna asuransi"
   ]
  },
  {
   "cell_type": "code",
   "execution_count": 12,
   "id": "795203ad",
   "metadata": {},
   "outputs": [
    {
     "name": "stdout",
     "output_type": "stream",
     "text": [
      "Rata-rata umur pengguna asuransi adalah 39.22 tahun\n"
     ]
    }
   ],
   "source": [
    "# rata-rata umur pengguna asuransi\n",
    "\n",
    "mean_age = df['age'].mean()\n",
    "print(f\"Rata-rata umur pengguna asuransi adalah {mean_age:.2f} tahun\")"
   ]
  },
  {
   "cell_type": "markdown",
   "id": "81b23dae",
   "metadata": {},
   "source": [
    "### 2.2. Rata-rata BMI perempuan dan laki-laki"
   ]
  },
  {
   "cell_type": "code",
   "execution_count": 13,
   "id": "a574fc8b",
   "metadata": {},
   "outputs": [
    {
     "data": {
      "text/html": [
       "<div>\n",
       "<style scoped>\n",
       "    .dataframe tbody tr th:only-of-type {\n",
       "        vertical-align: middle;\n",
       "    }\n",
       "\n",
       "    .dataframe tbody tr th {\n",
       "        vertical-align: top;\n",
       "    }\n",
       "\n",
       "    .dataframe thead th {\n",
       "        text-align: right;\n",
       "    }\n",
       "</style>\n",
       "<table border=\"1\" class=\"dataframe\">\n",
       "  <thead>\n",
       "    <tr style=\"text-align: right;\">\n",
       "      <th></th>\n",
       "      <th>bmi</th>\n",
       "    </tr>\n",
       "    <tr>\n",
       "      <th>sex</th>\n",
       "      <th></th>\n",
       "    </tr>\n",
       "  </thead>\n",
       "  <tbody>\n",
       "    <tr>\n",
       "      <th>female</th>\n",
       "      <td>30.38</td>\n",
       "    </tr>\n",
       "    <tr>\n",
       "      <th>male</th>\n",
       "      <td>30.94</td>\n",
       "    </tr>\n",
       "  </tbody>\n",
       "</table>\n",
       "</div>"
      ],
      "text/plain": [
       "          bmi\n",
       "sex          \n",
       "female  30.38\n",
       "male    30.94"
      ]
     },
     "execution_count": 13,
     "metadata": {},
     "output_type": "execute_result"
    }
   ],
   "source": [
    "# rata-rata BMI groupby sex\n",
    "\n",
    "mean_bmi_sex = df.groupby(['sex'])[['bmi']].mean()\n",
    "round(mean_bmi_sex, 2)"
   ]
  },
  {
   "cell_type": "markdown",
   "id": "77af5520",
   "metadata": {},
   "source": [
    "### 2.3. Rata-rata BMI perokok dan non perokok"
   ]
  },
  {
   "cell_type": "code",
   "execution_count": 14,
   "id": "7e844133",
   "metadata": {},
   "outputs": [
    {
     "data": {
      "text/html": [
       "<div>\n",
       "<style scoped>\n",
       "    .dataframe tbody tr th:only-of-type {\n",
       "        vertical-align: middle;\n",
       "    }\n",
       "\n",
       "    .dataframe tbody tr th {\n",
       "        vertical-align: top;\n",
       "    }\n",
       "\n",
       "    .dataframe thead th {\n",
       "        text-align: right;\n",
       "    }\n",
       "</style>\n",
       "<table border=\"1\" class=\"dataframe\">\n",
       "  <thead>\n",
       "    <tr style=\"text-align: right;\">\n",
       "      <th></th>\n",
       "      <th>bmi</th>\n",
       "    </tr>\n",
       "    <tr>\n",
       "      <th>smoker</th>\n",
       "      <th></th>\n",
       "    </tr>\n",
       "  </thead>\n",
       "  <tbody>\n",
       "    <tr>\n",
       "      <th>no</th>\n",
       "      <td>30.65</td>\n",
       "    </tr>\n",
       "    <tr>\n",
       "      <th>yes</th>\n",
       "      <td>30.71</td>\n",
       "    </tr>\n",
       "  </tbody>\n",
       "</table>\n",
       "</div>"
      ],
      "text/plain": [
       "          bmi\n",
       "smoker       \n",
       "no      30.65\n",
       "yes     30.71"
      ]
     },
     "execution_count": 14,
     "metadata": {},
     "output_type": "execute_result"
    }
   ],
   "source": [
    "# rata-rata BMI groupby smoker\n",
    "\n",
    "mean_bmi_smoker = df.groupby(['smoker'])[['bmi']].mean()\n",
    "round(mean_bmi_smoker, 2)"
   ]
  },
  {
   "cell_type": "markdown",
   "id": "fe66ed34",
   "metadata": {},
   "source": [
    "### 2.4. Rata-rata tagihan perokok dan non perokok"
   ]
  },
  {
   "cell_type": "code",
   "execution_count": 15,
   "id": "28a9d5b3",
   "metadata": {
    "scrolled": true
   },
   "outputs": [
    {
     "data": {
      "text/html": [
       "<div>\n",
       "<style scoped>\n",
       "    .dataframe tbody tr th:only-of-type {\n",
       "        vertical-align: middle;\n",
       "    }\n",
       "\n",
       "    .dataframe tbody tr th {\n",
       "        vertical-align: top;\n",
       "    }\n",
       "\n",
       "    .dataframe thead th {\n",
       "        text-align: right;\n",
       "    }\n",
       "</style>\n",
       "<table border=\"1\" class=\"dataframe\">\n",
       "  <thead>\n",
       "    <tr style=\"text-align: right;\">\n",
       "      <th></th>\n",
       "      <th>charges</th>\n",
       "    </tr>\n",
       "    <tr>\n",
       "      <th>smoker</th>\n",
       "      <th></th>\n",
       "    </tr>\n",
       "  </thead>\n",
       "  <tbody>\n",
       "    <tr>\n",
       "      <th>no</th>\n",
       "      <td>8440.66</td>\n",
       "    </tr>\n",
       "    <tr>\n",
       "      <th>yes</th>\n",
       "      <td>32050.23</td>\n",
       "    </tr>\n",
       "  </tbody>\n",
       "</table>\n",
       "</div>"
      ],
      "text/plain": [
       "         charges\n",
       "smoker          \n",
       "no       8440.66\n",
       "yes     32050.23"
      ]
     },
     "execution_count": 15,
     "metadata": {},
     "output_type": "execute_result"
    }
   ],
   "source": [
    "# rata-rata charges groupby smoker\n",
    "\n",
    "mean_charges_smoker = df.groupby(['smoker'])[['charges']].mean()\n",
    "round(mean_charges_smoker, 2)"
   ]
  },
  {
   "cell_type": "markdown",
   "id": "0eaccdf8",
   "metadata": {},
   "source": [
    "### 2.5. Variansi & standar deviasi tagihan perokok dan non perokok"
   ]
  },
  {
   "cell_type": "code",
   "execution_count": 16,
   "id": "5a1e965b",
   "metadata": {},
   "outputs": [
    {
     "name": "stdout",
     "output_type": "stream",
     "text": [
      "Variansi tagihan perokok adalah 133207311.21 USD²\n",
      "Standar deviasi tagihan perokok adalah 11541.55 USD\n"
     ]
    }
   ],
   "source": [
    "# data tagihan perokok\n",
    "\n",
    "charges_smoker = df[df[\"smoker\"]==\"yes\"][[\"charges\"]]\n",
    "\n",
    "# varians tagihan perokok\n",
    "\n",
    "var_charges_smoker = np.var(charges_smoker, ddof = 1)\n",
    "print(f\"Variansi tagihan perokok adalah {var_charges_smoker[0]:.2f} USD\\u00b2\")\n",
    "\n",
    "#standar deviasi tagihan perokok\n",
    "\n",
    "std_charges_smoker = np.std(charges_smoker, ddof = 1)\n",
    "print(f\"Standar deviasi tagihan perokok adalah {std_charges_smoker[0]:.2f} USD\")"
   ]
  },
  {
   "cell_type": "code",
   "execution_count": 17,
   "id": "9f340ddd",
   "metadata": {},
   "outputs": [
    {
     "name": "stdout",
     "output_type": "stream",
     "text": [
      "Variansi tagihan non perokok adalah 35915734.97 USD²\n",
      "Standar deviasi tagihan non perokok adalah 5992.97 USD\n"
     ]
    }
   ],
   "source": [
    "# data tagihan non perokok\n",
    "\n",
    "charges_non = df[df[\"smoker\"]==\"no\"][[\"charges\"]]\n",
    "\n",
    "# varians tagihan non perokok\n",
    "\n",
    "var_charges_non = np.var(charges_non, ddof = 1)\n",
    "print(f\"Variansi tagihan non perokok adalah {var_charges_non[0]:.2f} USD\\u00b2\")\n",
    "\n",
    "#standar deviasi tagihan perokok\n",
    "\n",
    "std_charges_non = np.std(charges_non, ddof = 1)\n",
    "print(f\"Standar deviasi tagihan non perokok adalah {std_charges_non[0]:.2f} USD\")"
   ]
  },
  {
   "cell_type": "markdown",
   "id": "b1c5c7df",
   "metadata": {},
   "source": [
    "## 3. Analisis Variabel Diskrit"
   ]
  },
  {
   "cell_type": "markdown",
   "id": "bf6abb25",
   "metadata": {},
   "source": [
    "### 3.1. Proporsi banyak pengguna asuransi di tiap regional"
   ]
  },
  {
   "cell_type": "code",
   "execution_count": 18,
   "id": "47b3b5ce",
   "metadata": {},
   "outputs": [
    {
     "data": {
      "text/plain": [
       "region   \n",
       "southeast    364\n",
       "southwest    325\n",
       "northeast    324\n",
       "northwest    324\n",
       "dtype: int64"
      ]
     },
     "execution_count": 18,
     "metadata": {},
     "output_type": "execute_result"
    }
   ],
   "source": [
    "# pengguna asuransi tiap regional\n",
    "\n",
    "user_region = df[['region']].value_counts()\n",
    "user_region"
   ]
  },
  {
   "cell_type": "markdown",
   "id": "e14fd2e3",
   "metadata": {},
   "source": [
    "### 3.2. Proporsi perokok dan non perokok"
   ]
  },
  {
   "cell_type": "code",
   "execution_count": 19,
   "id": "465f8e3d",
   "metadata": {},
   "outputs": [
    {
     "data": {
      "text/plain": [
       "smoker\n",
       "no        1063\n",
       "yes        274\n",
       "dtype: int64"
      ]
     },
     "execution_count": 19,
     "metadata": {},
     "output_type": "execute_result"
    }
   ],
   "source": [
    "# pengguna asuransi perokok & non perokok\n",
    "\n",
    "user_groupby_smoker = df[['smoker']].value_counts()\n",
    "user_groupby_smoker"
   ]
  },
  {
   "cell_type": "markdown",
   "id": "f745aa8d",
   "metadata": {},
   "source": [
    "### 3.3. Peluang seseorang adalah perempuan bila diketahui sebagai perokok"
   ]
  },
  {
   "cell_type": "code",
   "execution_count": 20,
   "id": "e18d8241",
   "metadata": {},
   "outputs": [
    {
     "data": {
      "text/plain": [
       "sex     smoker\n",
       "female  no        547\n",
       "        yes       115\n",
       "male    no        516\n",
       "        yes       159\n",
       "dtype: int64"
      ]
     },
     "execution_count": 20,
     "metadata": {},
     "output_type": "execute_result"
    }
   ],
   "source": [
    "# jumlah pengguna asuransi groupby sex & smoker\n",
    "\n",
    "sex_smoker = df.groupby(['sex'])[['smoker']].value_counts()\n",
    "sex_smoker"
   ]
  },
  {
   "cell_type": "code",
   "execution_count": 21,
   "id": "62453d09",
   "metadata": {},
   "outputs": [
    {
     "name": "stdout",
     "output_type": "stream",
     "text": [
      "Peluang seseorang adalah perempuan bila diketahui sebagai perokok adalah 17.37%\n"
     ]
    }
   ],
   "source": [
    "# total female user\n",
    "n_female = sex_smoker[0:2].sum()\n",
    "\n",
    "# total female user & smoker\n",
    "n_female_smoker = sex_smoker[1]\n",
    "\n",
    "# probability female given smoker\n",
    "prob_female_given_smoker = n_female_smoker / n_female * 100\n",
    "print(f\"Peluang seseorang adalah perempuan bila diketahui sebagai perokok adalah {prob_female_given_smoker:.2f}%\")"
   ]
  },
  {
   "cell_type": "markdown",
   "id": "d65db47c",
   "metadata": {},
   "source": [
    "### 3.4. Peluang seseorang adalah laki-laki bila diketahui sebagai perokok"
   ]
  },
  {
   "cell_type": "code",
   "execution_count": 22,
   "id": "5412be27",
   "metadata": {},
   "outputs": [
    {
     "name": "stdout",
     "output_type": "stream",
     "text": [
      "Peluang seseorang adalah laki-laki bila diketahui sebagai perokok adalah 23.56%\n"
     ]
    }
   ],
   "source": [
    "# total female user\n",
    "n_male = sex_smoker[2:].sum()\n",
    "\n",
    "# total female user & smoker\n",
    "n_male_smoker = sex_smoker[-1]\n",
    "\n",
    "# probability female given smoker\n",
    "prob_male_given_smoker = n_male_smoker / n_male * 100\n",
    "print(f\"Peluang seseorang adalah laki-laki bila diketahui sebagai perokok adalah {prob_male_given_smoker:.2f}%\")"
   ]
  },
  {
   "cell_type": "markdown",
   "id": "9b46c212",
   "metadata": {},
   "source": [
    "### 3.5. Distribusi peluang tagihan di tiap regional"
   ]
  },
  {
   "cell_type": "code",
   "execution_count": 23,
   "id": "ea70c058",
   "metadata": {},
   "outputs": [
    {
     "data": {
      "text/plain": [
       "<seaborn.axisgrid.FacetGrid at 0x2240a31eeb0>"
      ]
     },
     "execution_count": 23,
     "metadata": {},
     "output_type": "execute_result"
    },
    {
     "data": {
      "image/png": "[encoded data removed]",
      "text/plain": [
       "<Figure size 2000x500 with 4 Axes>"
      ]
     },
     "metadata": {},
     "output_type": "display_data"
    }
   ],
   "source": [
    "sns.displot(df, x='charges', col='region')"
   ]
  },
  {
   "cell_type": "markdown",
   "id": "558ef5d0",
   "metadata": {},
   "source": [
    "## 4. Analisis Varibel Kontinyu"
   ]
  },
  {
   "cell_type": "markdown",
   "id": "05d4e918",
   "metadata": {},
   "source": [
    "1. Mana yang lebih mungkin terjadi\n",
    "    \n",
    "    a. Seseorang dengan BMI di atas 25 mendapatkan tagihan kesehatan di atas 16.7k\n",
    "    \n",
    "    atau\n",
    "    \n",
    "    b. Seseorang dengan BMI di bawah 25 mendapatkan tagihan kesehatan di atas 16.7k"
   ]
  },
  {
   "cell_type": "code",
   "execution_count": 24,
   "id": "8b0a3ca1",
   "metadata": {},
   "outputs": [
    {
     "name": "stdout",
     "output_type": "stream",
     "text": [
      "Peluang seseorang dengan BMI > 25 mendapatkan tagihan > 16.7k adalah 84.73%\n"
     ]
    }
   ],
   "source": [
    "# jumlah user dengan charges > 16.7k\n",
    "n_charges_hi = df[(df['charges'] > 16700)].value_counts().sum()\n",
    "\n",
    "# jumlah user dengan BMI > 25 & charges > 16.7k\n",
    "n_bmi_hi_charges_hi = df[(df['bmi'] > 25) & (df['charges'] > 16700)].value_counts().sum()\n",
    "\n",
    "# probability user dengan BMI > 25 mendapatkan charges > 16.7k\n",
    "prob_bmi_hi_charges_hi = n_bmi_hi_charges_hi / n_charges_hi * 100\n",
    "\n",
    "print(f\"Peluang seseorang dengan BMI > 25 mendapatkan tagihan > 16.7k adalah {prob_bmi_hi_charges_hi:.2f}%\")"
   ]
  },
  {
   "cell_type": "code",
   "execution_count": 25,
   "id": "710ecba6",
   "metadata": {},
   "outputs": [
    {
     "name": "stdout",
     "output_type": "stream",
     "text": [
      "Peluang seseorang dengan BMI < 25 mendapatkan tagihan > 16.7k adalah 15.27%\n"
     ]
    }
   ],
   "source": [
    "# jumlah user dengan charges > 16.7k\n",
    "n_charges_hi = df[(df['charges'] > 16700)].value_counts().sum()\n",
    "\n",
    "# jumlah user dengan BMI < 25 & charges > 16.7k\n",
    "n_bmi_low_charges_hi = df[(df['bmi'] < 25) & (df['charges'] > 16700)].value_counts().sum()\n",
    "\n",
    "# probability user dengan BMI < 25 mendapatkan charges > 16.7k\n",
    "prob_bmi_low_charges_hi = n_bmi_low_charges_hi / n_charges_hi * 100\n",
    "\n",
    "print(f\"Peluang seseorang dengan BMI < 25 mendapatkan tagihan > 16.7k adalah {prob_bmi_low_charges_hi:.2f}%\")"
   ]
  },
  {
   "cell_type": "markdown",
   "id": "2046ddc8",
   "metadata": {},
   "source": [
    "Lebih mungkin terjadi seseorang dengan BMI di atas 25 mendapatkan tagihan kesehatan di atas 16.7k, dengan probabilitas __84.73%__.\n",
    "\n",
    "Dengan kata lain, __dari 100 orang yang mendapatkan tagihan kesehatan di atas 16.7k__, __85 orang di antaranya memiliki BMI di atas 25__."
   ]
  },
  {
   "cell_type": "markdown",
   "id": "b5937768",
   "metadata": {},
   "source": [
    "2. Mana yang lebih mungkin terjadi\n",
    "    \n",
    "    a. Seseorang perokok dengan BMI diatas 25 mendapatkan tagihan kesehatan diatas 16.7k\n",
    "    \n",
    "    atau\n",
    "    \n",
    "    b. Seseorang non perokok dengan BMI diatas 25 mendapatkan tagihan kesehatan diatas 16.7k"
   ]
  },
  {
   "cell_type": "code",
   "execution_count": 26,
   "id": "04658a70",
   "metadata": {},
   "outputs": [
    {
     "name": "stdout",
     "output_type": "stream",
     "text": [
      "Peluang seseorang perokok dengan BMI > 25 mendapatkan tagihan > 16.7k adalah 75.97%\n"
     ]
    }
   ],
   "source": [
    "# jumlah user dengan BMI > 25 & charges > 16.7k\n",
    "n_bmi_hi_charges_hi = df[(df['bmi'] > 25) & (df['charges'] > 16700)].value_counts().sum()\n",
    "\n",
    "# jumlah user perokok dengan BMI > 25 & charges > 16.7k\n",
    "n_smoker_bmi_hi_charges_hi = df[(df['smoker'] == 'yes') & (df['bmi'] > 25) & (df['charges'] > 16700)].value_counts().sum()\n",
    "\n",
    "# probability user perokok dengan BMI > 25 mendapatkan charges > 16.7k\n",
    "prob_smoker_bmi_hi_charges_hi = n_smoker_bmi_hi_charges_hi / n_bmi_hi_charges_hi * 100\n",
    "\n",
    "print(f\"Peluang seseorang perokok dengan BMI > 25 mendapatkan tagihan > 16.7k adalah {prob_smoker_bmi_hi_charges_hi:.2f}%\")"
   ]
  },
  {
   "cell_type": "code",
   "execution_count": 27,
   "id": "a00e0e10",
   "metadata": {},
   "outputs": [
    {
     "name": "stdout",
     "output_type": "stream",
     "text": [
      "Peluang seseorang non perokok dengan BMI > 25 mendapatkan tagihan > 16.7k adalah 24.03%\n"
     ]
    }
   ],
   "source": [
    "# jumlah user dengan BMI > 25 & charges > 16.7k\n",
    "n_bmi_hi_charges_hi = df[(df['bmi'] > 25) & (df['charges'] > 16700)].value_counts().sum()\n",
    "\n",
    "# jumlah user non perokok dengan BMI > 25 & charges > 16.7k\n",
    "n_non_bmi_hi_charges_hi = df[(df['smoker'] == 'no') & (df['bmi'] > 25) & (df['charges'] > 16700)].value_counts().sum()\n",
    "\n",
    "# probability user non perokok dengan BMI > 25 mendapatkan charges > 16.7k\n",
    "prob_non_bmi_hi_charges_hi = n_non_bmi_hi_charges_hi / n_bmi_hi_charges_hi * 100\n",
    "\n",
    "print(f\"Peluang seseorang non perokok dengan BMI > 25 mendapatkan tagihan > 16.7k adalah {prob_non_bmi_hi_charges_hi:.2f}%\")"
   ]
  },
  {
   "cell_type": "markdown",
   "id": "ca2aedbd",
   "metadata": {},
   "source": [
    "Lebih mungkin terjadi seseorang perokok dengan BMI di atas 25 mendapatkan tagihan kesehatan di atas 16.7k, dengan probabilitas __75.97%__.\n",
    "\n",
    "Dengan kata lain, __dari 100 orang dengan BMI di atas 25 dan mendapatkan tagihan kesehatan di atas 16.7k__, __76 orang di antaranya adalah perokok__."
   ]
  },
  {
   "cell_type": "markdown",
   "id": "10dfa9e9",
   "metadata": {},
   "source": [
    "## 5. Analisis Korelasi Variabel"
   ]
  },
  {
   "cell_type": "markdown",
   "id": "d3888963",
   "metadata": {},
   "source": [
    "### 5.1. Korelasi tagihan kesehatan dengan umur, BMI, dan tanggungan anak."
   ]
  },
  {
   "cell_type": "code",
   "execution_count": 28,
   "id": "59dffc1e",
   "metadata": {
    "scrolled": true
   },
   "outputs": [
    {
     "data": {
      "text/html": [
       "<div>\n",
       "<style scoped>\n",
       "    .dataframe tbody tr th:only-of-type {\n",
       "        vertical-align: middle;\n",
       "    }\n",
       "\n",
       "    .dataframe tbody tr th {\n",
       "        vertical-align: top;\n",
       "    }\n",
       "\n",
       "    .dataframe thead th {\n",
       "        text-align: right;\n",
       "    }\n",
       "</style>\n",
       "<table border=\"1\" class=\"dataframe\">\n",
       "  <thead>\n",
       "    <tr style=\"text-align: right;\">\n",
       "      <th></th>\n",
       "      <th>charges</th>\n",
       "      <th>age</th>\n",
       "      <th>bmi</th>\n",
       "      <th>children</th>\n",
       "    </tr>\n",
       "  </thead>\n",
       "  <tbody>\n",
       "    <tr>\n",
       "      <th>charges</th>\n",
       "      <td>1.000000</td>\n",
       "      <td>0.298308</td>\n",
       "      <td>0.198401</td>\n",
       "      <td>0.067389</td>\n",
       "    </tr>\n",
       "    <tr>\n",
       "      <th>age</th>\n",
       "      <td>0.298308</td>\n",
       "      <td>1.000000</td>\n",
       "      <td>0.109344</td>\n",
       "      <td>0.041536</td>\n",
       "    </tr>\n",
       "    <tr>\n",
       "      <th>bmi</th>\n",
       "      <td>0.198401</td>\n",
       "      <td>0.109344</td>\n",
       "      <td>1.000000</td>\n",
       "      <td>0.012755</td>\n",
       "    </tr>\n",
       "    <tr>\n",
       "      <th>children</th>\n",
       "      <td>0.067389</td>\n",
       "      <td>0.041536</td>\n",
       "      <td>0.012755</td>\n",
       "      <td>1.000000</td>\n",
       "    </tr>\n",
       "  </tbody>\n",
       "</table>\n",
       "</div>"
      ],
      "text/plain": [
       "           charges       age       bmi  children\n",
       "charges   1.000000  0.298308  0.198401  0.067389\n",
       "age       0.298308  1.000000  0.109344  0.041536\n",
       "bmi       0.198401  0.109344  1.000000  0.012755\n",
       "children  0.067389  0.041536  0.012755  1.000000"
      ]
     },
     "execution_count": 28,
     "metadata": {},
     "output_type": "execute_result"
    }
   ],
   "source": [
    "df_corr = df[['charges', 'age', 'bmi', 'children']].corr()\n",
    "df_corr"
   ]
  },
  {
   "cell_type": "code",
   "execution_count": 29,
   "id": "237ac880",
   "metadata": {},
   "outputs": [
    {
     "data": {
      "image/png": "[encoded data removed]",
      "text/plain": [
       "<Figure size 640x480 with 2 Axes>"
      ]
     },
     "metadata": {},
     "output_type": "display_data"
    }
   ],
   "source": [
    "sns.heatmap(df_corr, annot = True)\n",
    "plt.show()"
   ]
  },
  {
   "cell_type": "markdown",
   "id": "cf02049f",
   "metadata": {},
   "source": [
    "## 6. Pengujian Hipotesis"
   ]
  },
  {
   "cell_type": "markdown",
   "id": "802a2a17",
   "metadata": {},
   "source": [
    "### 6.1. Tagihan kesehatan perokok lebih tinggi dari tagihan kesehatan non perokok"
   ]
  },
  {
   "cell_type": "markdown",
   "id": "74076642",
   "metadata": {},
   "source": [
    "#### 1. Hipotesis dan significance level\n",
    "\n",
    "Tagihan kesehatan perokok lebih tinggi dari tagihan kesehatan non perokok.\n",
    "\n",
    "H0 : tagihan kesehatan perokok ($\\mu$1) $\\leq$ tagihan kesehatan non perokok ($\\mu$2)\n",
    "<br>H1 : tagihan kesehatan perokok ($\\mu$1) $>$ tagihan kesehatan non perokok ($\\mu$2)\n",
    "<br>$ \\alpha $ : 5%\n"
   ]
  },
  {
   "cell_type": "code",
   "execution_count": 30,
   "id": "20776837",
   "metadata": {},
   "outputs": [],
   "source": [
    "alpha = 0.05"
   ]
  },
  {
   "cell_type": "markdown",
   "id": "5c32fffb",
   "metadata": {},
   "source": [
    "#### 2. Statistik uji\n",
    "\n",
    "Uji statistik yang digunakan adalah t-test pada 2 sampel. Sampel 1 adalah tagihan kesehatan perokok, dan sampel 2 adalah tagihan kesehatan non perokok."
   ]
  },
  {
   "cell_type": "markdown",
   "id": "fdfc6a7e",
   "metadata": {},
   "source": [
    "#### 3. Aturan keputusan\n",
    "\n",
    "- Alpha = 0.05\n",
    "- Uji pihak kanan (dalam H1 mengandung tanda $>$)"
   ]
  },
  {
   "cell_type": "markdown",
   "id": "3899d2e2",
   "metadata": {},
   "source": [
    "#### 4. Hitung statistik uji"
   ]
  },
  {
   "cell_type": "code",
   "execution_count": 31,
   "id": "b77f6675",
   "metadata": {},
   "outputs": [],
   "source": [
    "# sample tagihan perokok\n",
    "n_charges_smoker = df[df['smoker'] == 'yes']['charges'].tolist()\n",
    "\n",
    "# sample tagihan non perokok\n",
    "n_charges_non = df[df['smoker'] == 'no']['charges'].tolist()"
   ]
  },
  {
   "cell_type": "code",
   "execution_count": 32,
   "id": "9c6ee1c2",
   "metadata": {
    "scrolled": true
   },
   "outputs": [
    {
     "data": {
      "text/plain": [
       "(132721153.13625307, 35881947.82391963)"
      ]
     },
     "execution_count": 32,
     "metadata": {},
     "output_type": "execute_result"
    }
   ],
   "source": [
    "# varians perokok dan non perokok\n",
    "np.var(n_charges_smoker), np.var(n_charges_non)"
   ]
  },
  {
   "cell_type": "code",
   "execution_count": 33,
   "id": "b3d15f87",
   "metadata": {},
   "outputs": [
    {
     "name": "stdout",
     "output_type": "stream",
     "text": [
      "Statistics = 32.7423, p-value = 0.0000\n"
     ]
    }
   ],
   "source": [
    "from scipy.stats import ttest_ind\n",
    "\n",
    "# menghitung statistik uji dan p-value\n",
    "stat, p = ttest_ind(a = n_charges_smoker, b = n_charges_non, equal_var = False, alternative = 'greater') # equal_var = False karena varians kedua populasi berbeda\n",
    "\n",
    "# interpretasi hasil\n",
    "print('Statistics = %.4f, p-value = %.4f' % (stat, p))"
   ]
  },
  {
   "cell_type": "markdown",
   "id": "e5400ebe",
   "metadata": {},
   "source": [
    "#### 5. Pengambilan keputusan"
   ]
  },
  {
   "cell_type": "code",
   "execution_count": 34,
   "id": "f1daf84c",
   "metadata": {},
   "outputs": [
    {
     "name": "stdout",
     "output_type": "stream",
     "text": [
      "Two group means are different (Tolak H0)\n"
     ]
    }
   ],
   "source": [
    "# Pengambilan Keputusan\n",
    "if p > alpha:\n",
    "    print('Two group means are equal (Gagal tolak H0)') \n",
    "else:\n",
    "    print('Two group means are different (Tolak H0)')"
   ]
  },
  {
   "cell_type": "markdown",
   "id": "5bb139c1",
   "metadata": {},
   "source": [
    "Dari pengujian hipotesis diatas, dapat disimpulkan bahwa tagihan kesehatan perokok lebih besar dari tagihan kesehatan non perokok."
   ]
  }
 ],
 "metadata": {
  "kernelspec": {
   "display_name": "Python 3 (ipykernel)",
   "language": "python",
   "name": "python3"
  },
  "language_info": {
   "codemirror_mode": {
    "name": "ipython",
    "version": 3
   },
   "file_extension": ".py",
   "mimetype": "text/x-python",
   "name": "python",
   "nbconvert_exporter": "python",
   "pygments_lexer": "ipython3",
   "version": "3.9.13"
  }
 },
 "nbformat": 4,
 "nbformat_minor": 5
}
